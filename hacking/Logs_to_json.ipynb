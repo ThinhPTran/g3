{
 "cells": [
  {
   "cell_type": "code",
   "execution_count": 1,
   "metadata": {
    "collapsed": false
   },
   "outputs": [
    {
     "name": "stdout",
     "output_type": "stream",
     "text": [
      "E-38.las           F3_horizon.txt     F3_seismic.txt.gz  seismic.h5\r\n"
     ]
    }
   ],
   "source": [
    "ls data"
   ]
  },
  {
   "cell_type": "code",
   "execution_count": 2,
   "metadata": {
    "collapsed": false
   },
   "outputs": [],
   "source": [
    "from striplog import las\n",
    "import matplotlib.pyplot as plt\n",
    "import numpy as np\n",
    "% matplotlib inline"
   ]
  },
  {
   "cell_type": "code",
   "execution_count": 3,
   "metadata": {
    "collapsed": false
   },
   "outputs": [],
   "source": [
    "f = 'data/E-38.las'\n",
    "well = las.LASReader(f , null_subs=np.nan)"
   ]
  },
  {
   "cell_type": "code",
   "execution_count": 4,
   "metadata": {
    "collapsed": false
   },
   "outputs": [
    {
     "data": {
      "text/plain": [
       "array([  1.23931680e+03,   1.58980000e+00,   3.63258500e+02,\n",
       "         7.25742000e+01,   7.80067000e+01,   7.85480000e+01,\n",
       "         7.70730000e+01,   2.21016200e+02,   4.31449510e+03,\n",
       "        -6.19000000e-02,  -2.45000000e-02,  -2.45000000e-02,\n",
       "         1.85809000e+01,   2.15745300e+02,   1.03339800e+02,\n",
       "         2.48608000e+02,   2.25353300e+02,   2.30556200e+02,\n",
       "         1.86506700e+02,   3.62429000e+01,   2.49800000e-01,\n",
       "         2.49800000e-01,   5.01320000e+00,   9.46510000e+00,\n",
       "         2.75208370e+03,   2.69044560e+03,   7.89752000e+01,\n",
       "         4.90684000e+01,  -6.46562500e+02,   9.28000000e-02,\n",
       "         2.52100000e+03,   2.80000000e+01])"
      ]
     },
     "execution_count": 4,
     "metadata": {},
     "output_type": "execute_result"
    }
   ],
   "source": [
    "data = well.data2d\n",
    "data[8000]"
   ]
  },
  {
   "cell_type": "code",
   "execution_count": 5,
   "metadata": {
    "collapsed": false
   },
   "outputs": [
    {
     "data": {
      "text/plain": [
       "array([ 20.1168,  20.2692,  20.4216,  20.574 ,  20.7264,  20.8788,\n",
       "        21.0312,  21.1836,  21.336 ,  21.4884])"
      ]
     },
     "execution_count": 5,
     "metadata": {},
     "output_type": "execute_result"
    }
   ],
   "source": [
    "depth = data[:,0]\n",
    "depth[:10]"
   ]
  },
  {
   "cell_type": "code",
   "execution_count": 6,
   "metadata": {
    "collapsed": false
   },
   "outputs": [
    {
     "name": "stdout",
     "output_type": "stream",
     "text": [
      "DEPT (M)         ''                             [1 DEPTH (BOREHOLE) {F10.4}]\n",
      "AMF (OHMM)       ''                             [2 Array Induction Mud Resistivity Fully Calibrated {F13.4}]\n",
      "AT10 (OHMM)      ''                             [3 Array Induction Two Foot Resistivity A10 {F13.4}]\n",
      "AT20 (OHMM)      ''                             [4 Array Induction Two Foot Resistivity A20 {F13.4}]\n",
      "AT30 (OHMM)      ''                             [5 Array Induction Two Foot Resistivity A30 {F13.4}]\n",
      "AT60 (OHMM)      ''                             [6 Array Induction Two Foot Resistivity A60 {F13.4}]\n",
      "AT90 (OHMM)      ''                             [7 Array Induction Two Foot Resistivity A90 {F13.4}]\n",
      "CALI (MM)        ''                             [8 Caliper {F13.4}]\n",
      "CDF (N)          ''                             [9 Calibrated Downhole Force {F13.4}]\n",
      "DPHI (V/V)       ''                             [10 Density Porosity {F13.4}]\n",
      "DPHI_SAN (V/V)   ''                             [11 Density Porosity (matrix Sandstone) {F13.4}]\n",
      "DPHZ (V/V)       ''                             [12 HRDD Standard Resolution Density Porosity {F13.4}]\n",
      "DRHO (K/M3)      ''                             [13 Bulk Density Correction {F13.4}]\n",
      "DT (US/M)        ''                             [14 Delta-T {F13.4}]\n",
      "GR (GAPI)        ''                             [15 Gamma-Ray {F13.4}]\n",
      "HCAL (MM)        ''                             [16 HRCC Cal. Caliper {F13.4}]\n",
      "HDMI (MM)        ''                             [17 Hole Diameter Minimum {F13.4}]\n",
      "HDMX (MM)        ''                             [18 Hole Diameter Maximum {F13.4}]\n",
      "HDRA (K/M3)      ''                             [19 HRDD Density Correction {F13.4}]\n",
      "HTEM (DEGC)      ''                             [20 HTC Temperature {F13.4}]\n",
      "NPOR (V/V)       ''                             [21 Enhanced Thermal Neutron Porosity {F13.4}]\n",
      "NPOR_SAN (V/V)   ''                             [22 Enhanced Thermal Neutron Porosity (matrix Sandstone) {F13.4}]\n",
      "PEF              ''                             [23 Photoelectric Factor {F13.4}]\n",
      "PEFZ             ''                             [24 HRDD Standard Resolution Formation Photoelectric Factor {F13.4}]\n",
      "RHOB (K/M3)      ''                             [25 Bulk Density {F13.4}]\n",
      "RHOZ (K/M3)      ''                             [26 HRDD Standard Resolution Formation Density {F13.4}]\n",
      "RT (OHMM)        ''                             [27 True Resistivity {F13.4}]\n",
      "RXOZ (OHMM)      ''                             [28 MCFL Standard Resolution Invaded Zone Resistivity {F13.4}]\n",
      "SP (MV)          ''                             [29 SP Shifted {F13.4}]\n",
      "SPHI (V/V)       ''                             [30 Sonic Porosity {F13.4}]\n",
      "TENS (LBF)       ''                             [31 Cable Tension {F13.4}]\n",
      "Gas              '0-0-0-0'                      [32]\n"
     ]
    }
   ],
   "source": [
    "well.curves.display()"
   ]
  },
  {
   "cell_type": "code",
   "execution_count": 7,
   "metadata": {
    "collapsed": false
   },
   "outputs": [
    {
     "data": {
      "text/plain": [
       "(20.1168, 1729.8924)"
      ]
     },
     "execution_count": 7,
     "metadata": {},
     "output_type": "execute_result"
    }
   ],
   "source": [
    "well.start, well.stop"
   ]
  },
  {
   "cell_type": "code",
   "execution_count": 8,
   "metadata": {
    "collapsed": false
   },
   "outputs": [],
   "source": [
    "import bruges as b"
   ]
  },
  {
   "cell_type": "markdown",
   "metadata": {},
   "source": [
    "Extract the gamma-ray log."
   ]
  },
  {
   "cell_type": "code",
   "execution_count": 9,
   "metadata": {
    "collapsed": false
   },
   "outputs": [
    {
     "name": "stdout",
     "output_type": "stream",
     "text": [
      "[[   20.1168        nan]\n",
      " [   20.2692        nan]\n",
      " [   20.4216        nan]\n",
      " ..., \n",
      " [ 1729.5876        nan]\n",
      " [ 1729.74          nan]\n",
      " [ 1729.8924        nan]]\n"
     ]
    },
    {
     "data": {
      "text/plain": [
       "(11220, 2)"
      ]
     },
     "execution_count": 9,
     "metadata": {},
     "output_type": "execute_result"
    }
   ],
   "source": [
    "gr = np.vstack((data[:,0], data[:,14])).T\n",
    "print(gr)\n",
    "gr.shape"
   ]
  },
  {
   "cell_type": "code",
   "execution_count": 10,
   "metadata": {
    "collapsed": false
   },
   "outputs": [
    {
     "name": "stdout",
     "output_type": "stream",
     "text": [
      "[[  304.3428    54.2195]\n",
      " [  304.4952    54.8475]\n",
      " [  304.6476    52.3608]\n",
      " ..., \n",
      " [ 1495.044     45.4073]\n",
      " [ 1495.1964    45.4073]\n",
      " [ 1495.3488    45.4073]]\n"
     ]
    }
   ],
   "source": [
    "gr = gr[~np.isnan(gr[:,1])]\n",
    "print(gr)"
   ]
  },
  {
   "cell_type": "code",
   "execution_count": 11,
   "metadata": {
    "collapsed": false
   },
   "outputs": [
    {
     "data": {
      "image/png": "[encoded data removed]",
      "text/plain": [
       "<matplotlib.figure.Figure at 0x10c9439e8>"
      ]
     },
     "metadata": {},
     "output_type": "display_data"
    }
   ],
   "source": [
    "plt.plot(gr[:,1],gr[:,0])\n",
    "plt.gca().invert_yaxis()\n",
    "plt.show()"
   ]
  },
  {
   "cell_type": "code",
   "execution_count": 12,
   "metadata": {
    "collapsed": true
   },
   "outputs": [],
   "source": [
    "g = gr[:,1]\n",
    "d = gr[:,0]"
   ]
  },
  {
   "cell_type": "code",
   "execution_count": 13,
   "metadata": {
    "collapsed": true
   },
   "outputs": [],
   "source": [
    "gn, dn = b.util.top_and_tail(g, d)"
   ]
  },
  {
   "cell_type": "code",
   "execution_count": 14,
   "metadata": {
    "collapsed": false
   },
   "outputs": [
    {
     "data": {
      "text/plain": [
       "0.15240000000000009"
      ]
     },
     "execution_count": 14,
     "metadata": {},
     "output_type": "execute_result"
    }
   ],
   "source": [
    "dn[1] - dn[0]"
   ]
  },
  {
   "cell_type": "code",
   "execution_count": 15,
   "metadata": {
    "collapsed": false
   },
   "outputs": [
    {
     "data": {
      "text/plain": [
       "(20.357399999999998, 122.07510000000001)"
      ]
     },
     "execution_count": 15,
     "metadata": {},
     "output_type": "execute_result"
    }
   ],
   "source": [
    "np.amin(gn), np.amax(gn)"
   ]
  },
  {
   "cell_type": "code",
   "execution_count": 16,
   "metadata": {
    "collapsed": false
   },
   "outputs": [
    {
     "data": {
      "text/plain": [
       "(304.34280000000001, 1495.1964, 7815)"
      ]
     },
     "execution_count": 16,
     "metadata": {},
     "output_type": "execute_result"
    }
   ],
   "source": [
    "np.amin(dn), np.amax(dn), dn.size"
   ]
  },
  {
   "cell_type": "markdown",
   "metadata": {},
   "source": [
    "## Target JSON\n",
    "\n",
    "Multiple ways to do this... could do it log-by-log... or (probably better) do a suite of logs with the same depth range/sampling.\n",
    "\n",
    "Use fuzzyLAS? "
   ]
  },
  {
   "cell_type": "code",
   "execution_count": 17,
   "metadata": {
    "collapsed": false
   },
   "outputs": [
    {
     "data": {
      "text/plain": [
       "{'metadata': {'dtype': float,\n",
       "  'global_max': 150,\n",
       "  'global_min': 0,\n",
       "  'length': 7815,\n",
       "  'max': 122.0751,\n",
       "  'min': 20.3574},\n",
       " 'z': {'domain': 'depth',\n",
       "  'int': 0.1524,\n",
       "  'max': 1495.3488,\n",
       "  'min': 304.3428,\n",
       "  'units': 'm'}}"
      ]
     },
     "execution_count": 17,
     "metadata": {},
     "output_type": "execute_result"
    }
   ],
   "source": [
    "{\n",
    "    'metadata': {\n",
    "        'length': 7815,\n",
    "        'dtype': float,\n",
    "        'min': 20.3574,\n",
    "        'max': 122.0751,\n",
    "        'global_min': 0,\n",
    "        'global_max': 150,\n",
    "    },\n",
    "    \n",
    "    'z': {\n",
    "        'min': 304.3428,   # AKA start\n",
    "        'max': 1495.3488,  # AKA stop\n",
    "        'int': 0.1524,\n",
    "        'units': 'm',\n",
    "        'domain': 'depth',\n",
    "    },\n",
    "}"
   ]
  },
  {
   "cell_type": "markdown",
   "metadata": {},
   "source": [
    "OK, let's built that, the long way around for now..."
   ]
  },
  {
   "cell_type": "code",
   "execution_count": 18,
   "metadata": {
    "collapsed": true
   },
   "outputs": [],
   "source": [
    "data = {'metadata': {}, 'z': {}}"
   ]
  },
  {
   "cell_type": "code",
   "execution_count": 19,
   "metadata": {
    "collapsed": false
   },
   "outputs": [
    {
     "data": {
      "text/plain": [
       "{'metadata': {'dtype': 'float',\n",
       "  'global_max': 150,\n",
       "  'global_min': 0,\n",
       "  'length': 7815,\n",
       "  'max': 122.0751,\n",
       "  'min': 20.3574},\n",
       " 'z': {'domain': 'depth',\n",
       "  'int': 0.1524,\n",
       "  'max': 1495.3488,\n",
       "  'min': 304.3428,\n",
       "  'units': 'm'}}"
      ]
     },
     "execution_count": 19,
     "metadata": {},
     "output_type": "execute_result"
    }
   ],
   "source": [
    "data['metadata']['length'] = 7815\n",
    "data['metadata']['dtype'] = 'float'\n",
    "data['metadata']['min'] = 20.3574\n",
    "data['metadata']['max'] = 122.0751\n",
    "data['metadata']['global_min'] = 0\n",
    "data['metadata']['global_max'] = 150\n",
    "\n",
    "data['z']['min'] = 304.3428\n",
    "data['z']['max'] = 1495.3488\n",
    "data['z']['int'] = 0.1524\n",
    "data['z']['units'] = 'm'\n",
    "data['z']['domain'] = 'depth'\n",
    "\n",
    "data"
   ]
  },
  {
   "cell_type": "code",
   "execution_count": 20,
   "metadata": {
    "collapsed": true
   },
   "outputs": [],
   "source": [
    "data['data'] = gn.tolist()"
   ]
  },
  {
   "cell_type": "code",
   "execution_count": 21,
   "metadata": {
    "collapsed": false
   },
   "outputs": [],
   "source": [
    "import json\n",
    "with open('/Users/matt/Dropbox/Public/well_log.json', 'w') as f:\n",
    "    f.write(json.dumps(data))"
   ]
  },
  {
   "cell_type": "code",
   "execution_count": null,
   "metadata": {
    "collapsed": true
   },
   "outputs": [],
   "source": []
  }
 ],
 "metadata": {
  "kernelspec": {
   "display_name": "Python 3",
   "language": "python",
   "name": "python3"
  },
  "language_info": {
   "codemirror_mode": {
    "name": "ipython",
    "version": 3
   },
   "file_extension": ".py",
   "mimetype": "text/x-python",
   "name": "python",
   "nbconvert_exporter": "python",
   "pygments_lexer": "ipython3",
   "version": "3.4.3"
  }
 },
 "nbformat": 4,
 "nbformat_minor": 0
}
