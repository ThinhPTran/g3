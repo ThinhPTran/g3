{
 "cells": [
  {
   "cell_type": "code",
   "execution_count": 1,
   "metadata": {
    "collapsed": false
   },
   "outputs": [],
   "source": [
    "from IPython.display import Math\n",
    "import numpy as np\n",
    "import matplotlib.pyplot as plt"
   ]
  },
  {
   "cell_type": "code",
   "execution_count": 2,
   "metadata": {
    "collapsed": false
   },
   "outputs": [],
   "source": [
    "%matplotlib inline"
   ]
  },
  {
   "cell_type": "markdown",
   "metadata": {},
   "source": [
    "## Ignore this bit\n",
    "\n",
    "Original file was 133 MB so I convert to HDF5 and compress..."
   ]
  },
  {
   "cell_type": "code",
   "execution_count": 3,
   "metadata": {
    "collapsed": false
   },
   "outputs": [
    {
     "name": "stdout",
     "output_type": "stream",
     "text": [
      "Time taken to read volume: 12.92 seconds.\n"
     ]
    }
   ],
   "source": [
    "import time\n",
    "start = time.time()\n",
    " \n",
    "data = np.loadtxt('data/F3_ss_dec_3x3')\n",
    " \n",
    "end = time.time()\n",
    "elapsed = end - start\n",
    "print(\"Time taken to read volume: {:.2f} seconds.\".format(elapsed))"
   ]
  },
  {
   "cell_type": "code",
   "execution_count": 5,
   "metadata": {
    "collapsed": false
   },
   "outputs": [
    {
     "name": "stdout",
     "output_type": "stream",
     "text": [
      "(194, 299, 463)\n"
     ]
    }
   ],
   "source": [
    "# Need to know:\n",
    "nIL = 194  # number of inlines\n",
    "nXL = 299  # number of crosslines\n",
    "nt = 463   # number of samples per trace\n",
    "dt = 0.004 # sample rate in seconds\n",
    "\n",
    "volume = np.reshape(data, newshape = (nIL, nXL, nt))\n",
    "print(volume.shape)"
   ]
  },
  {
   "cell_type": "code",
   "execution_count": 6,
   "metadata": {
    "collapsed": false
   },
   "outputs": [
    {
     "name": "stdout",
     "output_type": "stream",
     "text": [
      "(194, 299, 451)\n"
     ]
    }
   ],
   "source": [
    "# Get rid of some bad data for the last few samples on each trace.\n",
    "volume = volume[:,:,:451]\n",
    "print(volume.shape)"
   ]
  },
  {
   "cell_type": "markdown",
   "metadata": {},
   "source": [
    "Create initial dataset (orig data no longer in repo)."
   ]
  },
  {
   "cell_type": "code",
   "execution_count": 13,
   "metadata": {
    "collapsed": false
   },
   "outputs": [],
   "source": [
    "import h5py\n",
    "h5f = h5py.File('data/seismic.h5', 'w')\n",
    "h5f.create_dataset('data', data=volume, compression='lzf')\n",
    "h5f.close()"
   ]
  },
  {
   "cell_type": "markdown",
   "metadata": {},
   "source": [
    "## OK, start here"
   ]
  },
  {
   "cell_type": "markdown",
   "metadata": {},
   "source": [
    "Load a pre-selected crossline from the volume"
   ]
  },
  {
   "cell_type": "code",
   "execution_count": 3,
   "metadata": {
    "collapsed": true
   },
   "outputs": [],
   "source": [
    "import h5py\n",
    "h5f = h5py.File('data/seismic.h5','r')\n",
    "volume = h5f['data'][:]\n",
    "h5f.close()"
   ]
  },
  {
   "cell_type": "code",
   "execution_count": 4,
   "metadata": {
    "collapsed": false
   },
   "outputs": [
    {
     "name": "stdout",
     "output_type": "stream",
     "text": [
      "crossline 50 has 299 traces and 451 samples/trace.\n"
     ]
    }
   ],
   "source": [
    "XL = 50\n",
    "line = volume[XL,:, : ]\n",
    "print('crossline {} has {} traces and {} samples/trace.'.format(XL, line.shape[0], line.shape[1]))"
   ]
  },
  {
   "cell_type": "code",
   "execution_count": 5,
   "metadata": {
    "collapsed": false
   },
   "outputs": [
    {
     "data": {
      "text/plain": [
       "(299, 451)"
      ]
     },
     "execution_count": 5,
     "metadata": {},
     "output_type": "execute_result"
    }
   ],
   "source": [
    "line.shape"
   ]
  },
  {
   "cell_type": "code",
   "execution_count": 6,
   "metadata": {
    "collapsed": false
   },
   "outputs": [
    {
     "name": "stdout",
     "output_type": "stream",
     "text": [
      "The middle trace on XL 50 is in position 149.0.\n"
     ]
    }
   ],
   "source": [
    "# Find the middle trace on this line\n",
    "x = np.floor(line.shape[0]/2)\n",
    "print('The middle trace on XL {} is in position {}.'.format(XL, x))"
   ]
  },
  {
   "cell_type": "code",
   "execution_count": 7,
   "metadata": {
    "collapsed": false
   },
   "outputs": [
    {
     "name": "stdout",
     "output_type": "stream",
     "text": [
      "the number of samples on this trace is: 451\n",
      "Max value: 11405.0\n",
      "located in element: 447\n",
      "Min value: -16408.0\n",
      "located in element: 427\n",
      "Peak to peak: 27813.0\n",
      "Mean value: 9.86\n"
     ]
    }
   ],
   "source": [
    "# Take the middle trace, 's' out of the array (at location x):\n",
    "s = line[x]\n",
    "\n",
    "print(\"the number of samples on this trace is: {}\".format(len(s)))\n",
    "\n",
    "# Find the max value along the trace.\n",
    "biggest = np.amax(s)\n",
    "print(\"Max value: {}\".format(biggest))\n",
    "print(\"located in element: {}\".format(np.argmax(s)))\n",
    "\n",
    "# Find the minimum value along the trace.\n",
    "smallest = np.amin(s)\n",
    "print(\"Min value: {}\".format(smallest))\n",
    "print(\"located in element: {}\".format(np.argmin(s)))\n",
    "\n",
    "# Find the peak to peak range of the trace.\n",
    "amp_range = s.ptp()\n",
    "print(\"Peak to peak: {}\".format(amp_range))\n",
    "\n",
    "# Check to see that the mean of the trace is close to zero.\n",
    "print(\"Mean value: {:.2f}\".format(np.mean(s)))"
   ]
  },
  {
   "cell_type": "markdown",
   "metadata": {},
   "source": [
    "FIGURE 1: plot the trace (vertically)"
   ]
  },
  {
   "cell_type": "code",
   "execution_count": 8,
   "metadata": {
    "collapsed": false
   },
   "outputs": [
    {
     "data": {
      "text/plain": [
       "array([ 0.   ,  0.004,  0.008,  0.012,  0.016,  0.02 ,  0.024,  0.028,\n",
       "        0.032,  0.036,  0.04 ,  0.044,  0.048,  0.052,  0.056,  0.06 ,\n",
       "        0.064,  0.068,  0.072,  0.076])"
      ]
     },
     "execution_count": 8,
     "metadata": {},
     "output_type": "execute_result"
    }
   ],
   "source": [
    "# Make a time axis.\n",
    "t_min = 0.0\n",
    "dt = 0.004\n",
    "t_max = volume.shape[-1] * dt\n",
    "t = np.arange(t_min, t_max, step=dt)\n",
    "t[:20]"
   ]
  },
  {
   "cell_type": "code",
   "execution_count": 9,
   "metadata": {
    "collapsed": false
   },
   "outputs": [
    {
     "data": {
      "image/png": "[encoded data removed]",
      "text/plain": [
       "<matplotlib.figure.Figure at 0x7f53415f1a58>"
      ]
     },
     "metadata": {},
     "output_type": "display_data"
    }
   ],
   "source": [
    "fig1 = plt.figure(figsize = (3,9), facecolor='white')\n",
    "ax1 = fig1.add_subplot(111)\n",
    "wigplt = ax1.plot(s, t,'k')\n",
    "\n",
    "# plot the zero-crossing\n",
    "vmin = -0.75*s.ptp()\n",
    "vmax = 0.75*s.ptp()\n",
    "\n",
    "zerocrossing = ax1.plot(np.zeros_like(s), t,'k', alpha=0.5)\n",
    "ax1.set_xlim( (vmin, vmax) )\n",
    "ax1.set_ylabel('two-way time [s]')\n",
    "ax1.set_xlabel('amplitude')\n",
    "ax1.invert_yaxis()\n",
    "ax1.grid()"
   ]
  },
  {
   "cell_type": "markdown",
   "metadata": {},
   "source": [
    "## Trace statistics"
   ]
  },
  {
   "cell_type": "markdown",
   "metadata": {},
   "source": [
    "Let's look at a histogram of the values along this trace"
   ]
  },
  {
   "cell_type": "code",
   "execution_count": 10,
   "metadata": {
    "collapsed": false
   },
   "outputs": [
    {
     "data": {
      "image/png": "[encoded data removed]",
      "text/plain": [
       "<matplotlib.figure.Figure at 0x7f53415f19b0>"
      ]
     },
     "metadata": {},
     "output_type": "display_data"
    }
   ],
   "source": [
    "line = volume[50,...]\n",
    "vmin = -0.2 * line.ptp()\n",
    "vmax = 0.2 * line.ptp()\n",
    "\n",
    "fig = plt.figure(figsize=(15,12))\n",
    "ax = fig.add_subplot(111)\n",
    "\n",
    "hist = ax.hist(np.ravel(volume[0:150:10,...]), bins=1000)\n",
    "\n",
    "# centering the plot to the same x-range as above the plot\n",
    "ax.set_xlim(vmin, vmax)\n",
    "ax.set_xlabel('amplitude')\n",
    "\n",
    "plt.show()"
   ]
  },
  {
   "cell_type": "markdown",
   "metadata": {},
   "source": [
    "As suspected, most of the data values are close to zero, and fan outward (more or less symmetrically) to larger positive and negative values."
   ]
  },
  {
   "cell_type": "markdown",
   "metadata": {},
   "source": [
    "## Smart array encoding\n",
    "\n",
    "[This is from SO.](http://stackoverflow.com/questions/3488934/simplejson-and-numpy-array/24375113#24375113) "
   ]
  },
  {
   "cell_type": "code",
   "execution_count": 14,
   "metadata": {
    "collapsed": false
   },
   "outputs": [],
   "source": [
    "import base64\n",
    "import json\n",
    "import numpy as np\n",
    "\n",
    "class NumpyEncoder(json.JSONEncoder):\n",
    "    def default(self, obj):\n",
    "        \"\"\"\n",
    "        If input object is a ndarray it will be converted into\n",
    "        a dict holding dtype, shape and the data base64 encoded.\n",
    "        \"\"\"\n",
    "        if isinstance(obj, np.ndarray):\n",
    "            data_b64 = base64.b64encode(obj).decode('utf-8')\n",
    "            return dict(\n",
    "                        data=data_b64,\n",
    "                        dtype=str(obj.dtype),\n",
    "                        shape=obj.shape\n",
    "                       )\n",
    "        # Let the base class default method raise the TypeError\n",
    "        return json.JSONEncoder(self, obj)\n",
    "\n",
    "\n",
    "def ndarray_hook(dct):\n",
    "    \"\"\"\n",
    "    Decodes a previously encoded numpy ndarray\n",
    "    with proper shape and dtype.\n",
    "    \n",
    "    :param dct: (dict) json encoded ndarray\n",
    "    :return: (ndarray) if input was an encoded ndarray\n",
    "    \"\"\"\n",
    "    if isinstance(dct, dict) and 'data' in dct:\n",
    "        data = base64.b64decode(dct['data'])\n",
    "        return np.frombuffer(data, dct['dtype']).reshape(dct['shape'])\n",
    "    return dct\n",
    "\n",
    "expected = np.arange(100, dtype=np.float)\n",
    "dumped = json.dumps(expected, cls=NumpyEncoder)\n",
    "result = json.loads(dumped, object_hook=ndarray_hook)\n",
    "\n",
    "assert result.dtype == expected.dtype, \"Wrong Type\"\n",
    "assert result.shape == expected.shape, \"Wrong Shape\"\n",
    "assert np.allclose(expected, result), \"Wrong Values\""
   ]
  },
  {
   "cell_type": "code",
   "execution_count": 15,
   "metadata": {
    "collapsed": false
   },
   "outputs": [
    {
     "data": {
      "text/plain": [
       "'{\"shape\": [100], \"dtype\": \"float64\", \"data\": \"AAAAAAAAAAAAAAAAAADwPwAAAAAAAABAAAAAAAAACEAAAAAAAAAQQAAAAAAAABRAAAAAAAAAGEAAAAAAAAAcQAAAAAAAACBAAAAAAAAAIkAAAAAAAAAkQAAAAAAAACZAAAAAAAAAKEAAAAAAAAAqQAAAAAAAACxAAAAAAAAALkAAAAAAAAAwQAAAAAAAADFAAAAAAAAAMkAAAAAAAAAzQAAAAAAAADRAAAAAAAAANUAAAAAAAAA2QAAAAAAAADdAAAAAAAAAOEAAAAAAAAA5QAAAAAAAADpAAAAAAAAAO0AAAAAAAAA8QAAAAAAAAD1AAAAAAAAAPkAAAAAAAAA/QAAAAAAAAEBAAAAAAACAQEAAAAAAAABBQAAAAAAAgEFAAAAAAAAAQkAAAAAAAIBCQAAAAAAAAENAAAAAAACAQ0AAAAAAAABEQAAAAAAAgERAAAAAAAAARUAAAAAAAIBFQAAAAAAAAEZAAAAAAACARkAAAAAAAABHQAAAAAAAgEdAAAAAAAAASEAAAAAAAIBIQAAAAAAAAElAAAAAAACASUAAAAAAAABKQAAAAAAAgEpAAAAAAAAAS0AAAAAAAIBLQAAAAAAAAExAAAAAAACATEAAAAAAAABNQAAAAAAAgE1AAAAAAAAATkAAAAAAAIBOQAAAAAAAAE9AAAAAAACAT0AAAAAAAABQQAAAAAAAQFBAAAAAAACAUEAAAAAAAMBQQAAAAAAAAFFAAAAAAABAUUAAAAAAAIBRQAAAAAAAwFFAAAAAAAAAUkAAAAAAAEBSQAAAAAAAgFJAAAAAAADAUkAAAAAAAABTQAAAAAAAQFNAAAAAAACAU0AAAAAAAMBTQAAAAAAAAFRAAAAAAABAVEAAAAAAAIBUQAAAAAAAwFRAAAAAAAAAVUAAAAAAAEBVQAAAAAAAgFVAAAAAAADAVUAAAAAAAABWQAAAAAAAQFZAAAAAAACAVkAAAAAAAMBWQAAAAAAAAFdAAAAAAABAV0AAAAAAAIBXQAAAAAAAwFdAAAAAAAAAWEAAAAAAAEBYQAAAAAAAgFhAAAAAAADAWEA=\"}'"
      ]
     },
     "execution_count": 15,
     "metadata": {},
     "output_type": "execute_result"
    }
   ],
   "source": [
    "dumped"
   ]
  },
  {
   "cell_type": "markdown",
   "metadata": {},
   "source": [
    "## To JSON"
   ]
  },
  {
   "cell_type": "code",
   "execution_count": 17,
   "metadata": {
    "collapsed": false
   },
   "outputs": [
    {
     "data": {
      "text/plain": [
       "UUID('99d56106-41e7-11e5-b29e-c4850892820e')"
      ]
     },
     "execution_count": 17,
     "metadata": {},
     "output_type": "execute_result"
    }
   ],
   "source": [
    "# Making UUIDs\n",
    "import uuid\n",
    "uuid.uuid1()"
   ]
  },
  {
   "cell_type": "code",
   "execution_count": 18,
   "metadata": {
    "collapsed": false
   },
   "outputs": [
    {
     "data": {
      "text/plain": [
       "{1: -6399.5200000000004,\n",
       " 5: -3546.5999999999995,\n",
       " 50: 0.0,\n",
       " 95: 3538.0,\n",
       " 99: 6270.5599999999686}"
      ]
     },
     "execution_count": 18,
     "metadata": {},
     "output_type": "execute_result"
    }
   ],
   "source": [
    "# Data percentiles\n",
    "perc = {}\n",
    "for p in [1, 5, 50, 95, 99]:\n",
    "    perc[p] = np.percentile(line, p)\n",
    "perc"
   ]
  },
  {
   "cell_type": "code",
   "execution_count": 20,
   "metadata": {
    "collapsed": false
   },
   "outputs": [
    {
     "data": {
      "text/plain": [
       "(-29579.0, 30439.0)"
      ]
     },
     "execution_count": 20,
     "metadata": {},
     "output_type": "execute_result"
    }
   ],
   "source": [
    "# Global min and max\n",
    "np.amin(volume), np.amax(volume)"
   ]
  },
  {
   "cell_type": "markdown",
   "metadata": {},
   "source": [
    "Target JSON pseudocode:"
   ]
  },
  {
   "cell_type": "code",
   "execution_count": null,
   "metadata": {
    "collapsed": false
   },
   "outputs": [],
   "source": [
    "{\n",
    "    'name': 'F3',\n",
    "    'location': 'Netherlands',\n",
    "    'uuid': 'b4a7b5a8-41c2-11e5-85a7-c4850892820e',\n",
    "    'polarity': 'normal',  # Ambiguous: down incr = peak\n",
    "    'company': 'unknown',\n",
    "    'source': 'airgun',\n",
    "    'receiver': 'hydrophone',\n",
    "    'type': 'marine',  # land, borehole, etc.\n",
    "    'header': 'arbitrary string of stuff or EDCDIC header',\n",
    "\n",
    "    'data': [\n",
    "        [ 'first trace' ],\n",
    "        [ 'second trace' ],\n",
    "        '...',\n",
    "    ],\n",
    "\n",
    "    'metadata': {\n",
    "        'dim': 2,\n",
    "        'shape': [299, 451],\n",
    "        'dtype': int,\n",
    "        'min': -16408,\n",
    "        'max': 11405,\n",
    "        'perc': perc,\n",
    "        'global_min': -29579.0,\n",
    "        'global_max': 30439.0,\n",
    "    },\n",
    "    \n",
    "    'z': {\n",
    "        'min': 0,\n",
    "        'max': 1.800,\n",
    "        'int': 0.004,\n",
    "        'units': 's',\n",
    "        'domain': 'time',\n",
    "    },\n",
    "            \n",
    "    'geometry': {\n",
    "        'parent': '3D',\n",
    "        'type': '2D',  # Can infer this from data shape\n",
    "        'cdpmin': 0,\n",
    "        'cdpmax': 298,\n",
    "        'corners': [[50000, 15000], [7000, 17000]],\n",
    "        'crs': 'EPSG:4326',\n",
    "        'units': 'm',\n",
    "    },\n",
    "}"
   ]
  },
  {
   "cell_type": "markdown",
   "metadata": {},
   "source": [
    "OK, now make the real thing, but in a roundabout way... This should be a method on some sort of seismic object. "
   ]
  },
  {
   "cell_type": "code",
   "execution_count": 25,
   "metadata": {
    "collapsed": false
   },
   "outputs": [],
   "source": [
    "dictionary = {'metadata': {},\n",
    "              'geometry': {},\n",
    "              'z': {},\n",
    "              }"
   ]
  },
  {
   "cell_type": "code",
   "execution_count": 26,
   "metadata": {
    "collapsed": false
   },
   "outputs": [],
   "source": [
    "dictionary['name'] = 'F3'\n",
    "dictionary['location'] = 'NEtherlands'\n",
    "dictionary['polarity'] = 'normal'\n",
    "dictionary['company'] = 'unknown'\n",
    "dictionary['type'] = 'marine'\n",
    "dictionary['airgun'] = 'airgun'\n",
    "dictionary['uuid'] = str(uuid.uuid1())\n",
    "\n",
    "dictionary['metadata']['dim'] = line.ndim\n",
    "dictionary['metadata']['shape'] = list(line.shape)\n",
    "dictionary['metadata']['min'] = -16408\n",
    "dictionary['metadata']['max'] = 11405\n",
    "dictionary['metadata']['perc'] = perc\n",
    "dictionary['metadata']['global_min'] = -29579.0\n",
    "dictionary['metadata']['global_max'] = 30439.0\n",
    "\n",
    "dictionary['z']['min'] = 0\n",
    "dictionary['z']['max'] = 1.800\n",
    "dictionary['z']['int'] = 0.004\n",
    "dictionary['z']['units'] = 's'\n",
    "dictionary['z']['domain'] = 'time'\n",
    "\n",
    "dictionary['geometry']['cdpmin'] = 0\n",
    "dictionary['geometry']['cdpmax'] = 298\n"
   ]
  },
  {
   "cell_type": "code",
   "execution_count": 27,
   "metadata": {
    "collapsed": false
   },
   "outputs": [
    {
     "data": {
      "text/plain": [
       "{'airgun': 'airgun',\n",
       " 'company': 'unknown',\n",
       " 'geometry': {'cdpmax': 298, 'cdpmin': 0},\n",
       " 'location': 'NEtherlands',\n",
       " 'metadata': {'dim': 2,\n",
       "  'global_max': 30439.0,\n",
       "  'global_min': -29579.0,\n",
       "  'max': 11405,\n",
       "  'min': -16408,\n",
       "  'perc': {1: -6399.5200000000004,\n",
       "   5: -3546.5999999999995,\n",
       "   50: 0.0,\n",
       "   95: 3538.0,\n",
       "   99: 6270.5599999999686},\n",
       "  'shape': [299, 451]},\n",
       " 'name': 'F3',\n",
       " 'polarity': 'normal',\n",
       " 'type': 'marine',\n",
       " 'uuid': 'da6c3c1c-41e7-11e5-b29e-c4850892820e',\n",
       " 'z': {'domain': 'time', 'int': 0.004, 'max': 1.8, 'min': 0, 'units': 's'}}"
      ]
     },
     "execution_count": 27,
     "metadata": {},
     "output_type": "execute_result"
    }
   ],
   "source": [
    "dictionary"
   ]
  },
  {
   "cell_type": "code",
   "execution_count": 28,
   "metadata": {
    "collapsed": false
   },
   "outputs": [
    {
     "data": {
      "text/plain": [
       "'{\"z\": {\"domain\": \"time\", \"int\": 0.004, \"min\": 0, \"max\": 1.8, \"units\": \"s\"}, \"location\": \"NEtherlands\", \"polarity\": \"normal\", \"uuid\": \"da6c3c1c-41e7-11e5-b29e-c4850892820e\", \"airgun\": \"airgun\", \"metadata\": {\"shape\": [299, 451], \"min\": -16408, \"dim\": 2, \"perc\": {\"1\": -6399.52, \"50\": 0.0, \"99\": 6270.559999999969, \"5\": -3546.5999999999995, \"95\": 3538.0}, \"max\": 11405, \"global_max\": 30439.0, \"global_min\": -29579.0}, \"geometry\": {\"cdpmin\": 0, \"cdpmax\": 298}, \"name\": \"F3\", \"company\": \"unknown\", \"type\": \"marine\"}'"
      ]
     },
     "execution_count": 28,
     "metadata": {},
     "output_type": "execute_result"
    }
   ],
   "source": [
    "json.dumps(dictionary)"
   ]
  },
  {
   "cell_type": "markdown",
   "metadata": {},
   "source": [
    "Check to see how big the list is as a string..."
   ]
  },
  {
   "cell_type": "code",
   "execution_count": 29,
   "metadata": {
    "collapsed": false
   },
   "outputs": [
    {
     "data": {
      "text/plain": [
       "1073473"
      ]
     },
     "execution_count": 29,
     "metadata": {},
     "output_type": "execute_result"
    }
   ],
   "source": [
    "snp = json.dumps(line.tolist())\n",
    "len(snp)"
   ]
  },
  {
   "cell_type": "markdown",
   "metadata": {},
   "source": [
    "...and as a base64 encoded string..."
   ]
  },
  {
   "cell_type": "code",
   "execution_count": 30,
   "metadata": {
    "collapsed": false
   },
   "outputs": [
    {
     "data": {
      "text/plain": [
       "1438445"
      ]
     },
     "execution_count": 30,
     "metadata": {},
     "output_type": "execute_result"
    }
   ],
   "source": [
    "l = line.copy(order='C')\n",
    "s64 = json.dumps(l, cls=NumpyEncoder)\n",
    "len(s64)"
   ]
  },
  {
   "cell_type": "markdown",
   "metadata": {},
   "source": [
    "(Aside: maybe we can compress, or reduce bitdepth?)\n",
    "\n",
    "OK, just stick to string..."
   ]
  },
  {
   "cell_type": "code",
   "execution_count": 31,
   "metadata": {
    "collapsed": true
   },
   "outputs": [],
   "source": [
    "dictionary['data'] = line.tolist()"
   ]
  },
  {
   "cell_type": "code",
   "execution_count": 32,
   "metadata": {
    "collapsed": true
   },
   "outputs": [],
   "source": [
    "import json\n",
    "with open('/home/matt/Dropbox/Public/seismic.json', 'w') as f:\n",
    "    f.write(json.dumps(dictionary))"
   ]
  },
  {
   "cell_type": "code",
   "execution_count": null,
   "metadata": {
    "collapsed": true
   },
   "outputs": [],
   "source": []
  }
 ],
 "metadata": {
  "kernelspec": {
   "display_name": "Python 3",
   "language": "python",
   "name": "python3"
  },
  "language_info": {
   "codemirror_mode": {
    "name": "ipython",
    "version": 3
   },
   "file_extension": ".py",
   "mimetype": "text/x-python",
   "name": "python",
   "nbconvert_exporter": "python",
   "pygments_lexer": "ipython3",
   "version": "3.3.5"
  }
 },
 "nbformat": 4,
 "nbformat_minor": 0
}
