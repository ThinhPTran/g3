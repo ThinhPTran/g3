{
 "cells": [
  {
   "cell_type": "code",
   "execution_count": 1,
   "metadata": {
    "collapsed": false
   },
   "outputs": [],
   "source": [
    "from IPython.display import Math\n",
    "import numpy as np\n",
    "import matplotlib.pyplot as plt"
   ]
  },
  {
   "cell_type": "code",
   "execution_count": 2,
   "metadata": {
    "collapsed": false
   },
   "outputs": [],
   "source": [
    "%matplotlib inline"
   ]
  },
  {
   "cell_type": "markdown",
   "metadata": {},
   "source": [
    "## Ignore this bit\n",
    "\n",
    "Original file was 133 MB so I convert to HDF5 and compress..."
   ]
  },
  {
   "cell_type": "code",
   "execution_count": 2,
   "metadata": {
    "collapsed": false
   },
   "outputs": [
    {
     "name": "stdout",
     "output_type": "stream",
     "text": [
      "E-38.las        F3_horizon.txt  F3_seismic.txt\r\n"
     ]
    }
   ],
   "source": [
    "ls data"
   ]
  },
  {
   "cell_type": "code",
   "execution_count": 5,
   "metadata": {
    "collapsed": false
   },
   "outputs": [
    {
     "data": {
      "text/plain": [
       "1"
      ]
     },
     "execution_count": 5,
     "metadata": {},
     "output_type": "execute_result"
    }
   ],
   "source": [
    "ls= [1,2,3,4,5]\n",
    "ls.pop(0)"
   ]
  },
  {
   "cell_type": "code",
   "execution_count": 6,
   "metadata": {
    "collapsed": false
   },
   "outputs": [
    {
     "data": {
      "text/plain": [
       "[2, 3, 4, 5]"
      ]
     },
     "execution_count": 6,
     "metadata": {},
     "output_type": "execute_result"
    }
   ],
   "source": [
    "ls"
   ]
  },
  {
   "cell_type": "code",
   "execution_count": 17,
   "metadata": {
    "collapsed": false
   },
   "outputs": [
    {
     "name": "stdout",
     "output_type": "stream",
     "text": [
      "190 inlines, 190 xlines\n",
      "251 samples per trace\n"
     ]
    }
   ],
   "source": [
    "with open('data/F3_seismic.txt') as f:\n",
    "    raw = f.readlines()\n",
    "\n",
    "inlines, xlines, traces = [], [], []\n",
    "\n",
    "for line in raw:\n",
    "    l = line.split('\\t')\n",
    "    inlines.append(int(l.pop(0)))\n",
    "    xlines.append(int(l.pop(0)))\n",
    "    trace = np.loadtxt(l)\n",
    "    traces.append(trace)\n",
    "\n",
    "print(\"{} inlines, {} xlines\\n{} samples per trace\".format(max(inlines)-min(inlines),\n",
    "                                                           max(xlines)-min(xlines),\n",
    "                                                           len(traces[0])))"
   ]
  },
  {
   "cell_type": "code",
   "execution_count": 18,
   "metadata": {
    "collapsed": false
   },
   "outputs": [
    {
     "data": {
      "text/plain": [
       "(191, 191, 251)"
      ]
     },
     "execution_count": 18,
     "metadata": {},
     "output_type": "execute_result"
    }
   ],
   "source": [
    "data = np.array(traces)\n",
    "data = np.reshape(data, (191, 191, 251))\n",
    "data.shape"
   ]
  },
  {
   "cell_type": "markdown",
   "metadata": {},
   "source": [
    "Create initial dataset (orig data no longer in repo)."
   ]
  },
  {
   "cell_type": "code",
   "execution_count": 19,
   "metadata": {
    "collapsed": false
   },
   "outputs": [],
   "source": [
    "import h5py\n",
    "h5f = h5py.File('data/seismic.h5', 'w')\n",
    "h5f.create_dataset('data', data=data, compression='lzf')\n",
    "h5f.close()"
   ]
  },
  {
   "cell_type": "markdown",
   "metadata": {},
   "source": [
    "## OK, start here"
   ]
  },
  {
   "cell_type": "markdown",
   "metadata": {},
   "source": [
    "Load a pre-selected crossline from the volume"
   ]
  },
  {
   "cell_type": "code",
   "execution_count": 3,
   "metadata": {
    "collapsed": true
   },
   "outputs": [],
   "source": [
    "import h5py\n",
    "h5f = h5py.File('data/seismic.h5','r')\n",
    "volume = h5f['data'][:]\n",
    "h5f.close()"
   ]
  },
  {
   "cell_type": "code",
   "execution_count": 4,
   "metadata": {
    "collapsed": false
   },
   "outputs": [
    {
     "name": "stdout",
     "output_type": "stream",
     "text": [
      "crossline 50 has 191 traces and 251 samples/trace.\n"
     ]
    }
   ],
   "source": [
    "XL = 50\n",
    "line = volume[XL,:, : ]\n",
    "print('crossline {} has {} traces and {} samples/trace.'.format(XL, line.shape[0], line.shape[1]))"
   ]
  },
  {
   "cell_type": "code",
   "execution_count": 5,
   "metadata": {
    "collapsed": false
   },
   "outputs": [
    {
     "data": {
      "text/plain": [
       "(191, 251)"
      ]
     },
     "execution_count": 5,
     "metadata": {},
     "output_type": "execute_result"
    }
   ],
   "source": [
    "line.shape"
   ]
  },
  {
   "cell_type": "code",
   "execution_count": 6,
   "metadata": {
    "collapsed": false
   },
   "outputs": [
    {
     "name": "stdout",
     "output_type": "stream",
     "text": [
      "The middle trace on XL 50 is in position 95.0.\n"
     ]
    }
   ],
   "source": [
    "# Find the middle trace on this line\n",
    "x = np.floor(line.shape[0]/2)\n",
    "print('The middle trace on XL {} is in position {}.'.format(XL, x))"
   ]
  },
  {
   "cell_type": "code",
   "execution_count": 7,
   "metadata": {
    "collapsed": false
   },
   "outputs": [
    {
     "name": "stdout",
     "output_type": "stream",
     "text": [
      "the number of samples on this trace is: 251\n",
      "Max value: 7159.0\n",
      "located in element: 142\n",
      "Min value: -7268.0\n",
      "located in element: 68\n",
      "Peak to peak: 14427.0\n",
      "Mean value: -29.28\n"
     ]
    },
    {
     "name": "stderr",
     "output_type": "stream",
     "text": [
      "/Users/matt/anaconda/lib/python3.4/site-packages/ipykernel/__main__.py:2: DeprecationWarning: using a non-integer number instead of an integer will result in an error in the future\n",
      "  from ipykernel import kernelapp as app\n"
     ]
    }
   ],
   "source": [
    "# Take the middle trace, 's' out of the array (at location x):\n",
    "s = line[x]\n",
    "\n",
    "print(\"the number of samples on this trace is: {}\".format(len(s)))\n",
    "\n",
    "# Find the max value along the trace.\n",
    "biggest = np.amax(s)\n",
    "print(\"Max value: {}\".format(biggest))\n",
    "print(\"located in element: {}\".format(np.argmax(s)))\n",
    "\n",
    "# Find the minimum value along the trace.\n",
    "smallest = np.amin(s)\n",
    "print(\"Min value: {}\".format(smallest))\n",
    "print(\"located in element: {}\".format(np.argmin(s)))\n",
    "\n",
    "# Find the peak to peak range of the trace.\n",
    "amp_range = s.ptp()\n",
    "print(\"Peak to peak: {}\".format(amp_range))\n",
    "\n",
    "# Check to see that the mean of the trace is close to zero.\n",
    "print(\"Mean value: {:.2f}\".format(np.mean(s)))"
   ]
  },
  {
   "cell_type": "markdown",
   "metadata": {},
   "source": [
    "FIGURE 1: plot the trace (vertically)"
   ]
  },
  {
   "cell_type": "code",
   "execution_count": 8,
   "metadata": {
    "collapsed": false
   },
   "outputs": [
    {
     "data": {
      "text/plain": [
       "array([ 0.   ,  0.004,  0.008,  0.012,  0.016,  0.02 ,  0.024,  0.028,\n",
       "        0.032,  0.036,  0.04 ,  0.044,  0.048,  0.052,  0.056,  0.06 ,\n",
       "        0.064,  0.068,  0.072,  0.076])"
      ]
     },
     "execution_count": 8,
     "metadata": {},
     "output_type": "execute_result"
    }
   ],
   "source": [
    "# Make a time axis.\n",
    "t_min = 0.0\n",
    "dt = 0.004\n",
    "t_max = volume.shape[-1] * dt\n",
    "t = np.arange(t_min, t_max, step=dt)\n",
    "t[:20]"
   ]
  },
  {
   "cell_type": "code",
   "execution_count": 9,
   "metadata": {
    "collapsed": false
   },
   "outputs": [
    {
     "data": {
      "image/png": "[encoded data removed]",
      "text/plain": [
       "<matplotlib.figure.Figure at 0x106fa5240>"
      ]
     },
     "metadata": {},
     "output_type": "display_data"
    }
   ],
   "source": [
    "fig1 = plt.figure(figsize = (3,9), facecolor='white')\n",
    "ax1 = fig1.add_subplot(111)\n",
    "wigplt = ax1.plot(s, t,'k')\n",
    "\n",
    "# plot the zero-crossing\n",
    "vmin = -s.ptp()\n",
    "vmax = s.ptp()\n",
    "\n",
    "zerocrossing = ax1.plot(np.zeros_like(s), t,'k', alpha=0.5)\n",
    "ax1.set_xlim( (vmin, vmax) )\n",
    "ax1.set_ylabel('two-way time [s]')\n",
    "ax1.set_xlabel('amplitude')\n",
    "ax1.invert_yaxis()\n",
    "ax1.grid()"
   ]
  },
  {
   "cell_type": "code",
   "execution_count": 10,
   "metadata": {
    "collapsed": false
   },
   "outputs": [
    {
     "data": {
      "image/png": "[encoded data removed]",
      "text/plain": [
       "<matplotlib.figure.Figure at 0x10b2626a0>"
      ]
     },
     "metadata": {},
     "output_type": "display_data"
    }
   ],
   "source": [
    "plt.imshow(volume[..., 100], cmap='gray')\n",
    "plt.show()"
   ]
  },
  {
   "cell_type": "markdown",
   "metadata": {},
   "source": [
    "## Trace statistics"
   ]
  },
  {
   "cell_type": "markdown",
   "metadata": {},
   "source": [
    "Let's look at a histogram of the values along this trace"
   ]
  },
  {
   "cell_type": "code",
   "execution_count": 11,
   "metadata": {
    "collapsed": false
   },
   "outputs": [
    {
     "data": {
      "image/png": "[encoded data removed]",
      "text/plain": [
       "<matplotlib.figure.Figure at 0x10f874160>"
      ]
     },
     "metadata": {},
     "output_type": "display_data"
    }
   ],
   "source": [
    "line = volume[50,...]\n",
    "vmin = -0.2 * line.ptp()\n",
    "vmax = 0.2 * line.ptp()\n",
    "\n",
    "fig = plt.figure(figsize=(15,12))\n",
    "ax = fig.add_subplot(111)\n",
    "\n",
    "hist = ax.hist(np.ravel(volume[0:150:10,...]), bins=1000)\n",
    "\n",
    "# centering the plot to the same x-range as above the plot\n",
    "ax.set_xlim(vmin, vmax)\n",
    "ax.set_xlabel('amplitude')\n",
    "\n",
    "plt.show()"
   ]
  },
  {
   "cell_type": "markdown",
   "metadata": {},
   "source": [
    "As suspected, most of the data values are close to zero, and fan outward (more or less symmetrically) to larger positive and negative values."
   ]
  },
  {
   "cell_type": "markdown",
   "metadata": {},
   "source": [
    "## Smart array encoding\n",
    "\n",
    "[This is from SO.](http://stackoverflow.com/questions/3488934/simplejson-and-numpy-array/24375113#24375113) "
   ]
  },
  {
   "cell_type": "code",
   "execution_count": 12,
   "metadata": {
    "collapsed": false
   },
   "outputs": [],
   "source": [
    "import base64\n",
    "import json\n",
    "import numpy as np\n",
    "\n",
    "class NumpyEncoder(json.JSONEncoder):\n",
    "    def default(self, obj):\n",
    "        \"\"\"\n",
    "        If input object is a ndarray it will be converted into\n",
    "        a dict holding dtype, shape and the data base64 encoded.\n",
    "        \"\"\"\n",
    "        if isinstance(obj, np.ndarray):\n",
    "            data_b64 = base64.b64encode(obj).decode('utf-8')\n",
    "            return dict(\n",
    "                        data=data_b64,\n",
    "                        dtype=str(obj.dtype),\n",
    "                        shape=obj.shape\n",
    "                       )\n",
    "        # Let the base class default method raise the TypeError\n",
    "        return json.JSONEncoder(self, obj)\n",
    "\n",
    "\n",
    "def ndarray_hook(dct):\n",
    "    \"\"\"\n",
    "    Decodes a previously encoded numpy ndarray\n",
    "    with proper shape and dtype.\n",
    "    \n",
    "    :param dct: (dict) json encoded ndarray\n",
    "    :return: (ndarray) if input was an encoded ndarray\n",
    "    \"\"\"\n",
    "    if isinstance(dct, dict) and 'data' in dct:\n",
    "        data = base64.b64decode(dct['data'])\n",
    "        return np.frombuffer(data, dct['dtype']).reshape(dct['shape'])\n",
    "    return dct\n",
    "\n",
    "expected = np.arange(100, dtype=np.float)\n",
    "dumped = json.dumps(expected, cls=NumpyEncoder)\n",
    "result = json.loads(dumped, object_hook=ndarray_hook)\n",
    "\n",
    "assert result.dtype == expected.dtype, \"Wrong Type\"\n",
    "assert result.shape == expected.shape, \"Wrong Shape\"\n",
    "assert np.allclose(expected, result), \"Wrong Values\""
   ]
  },
  {
   "cell_type": "code",
   "execution_count": 13,
   "metadata": {
    "collapsed": false
   },
   "outputs": [
    {
     "data": {
      "text/plain": [
       "'{\"shape\": [100], \"dtype\": \"float64\", \"data\": \"AAAAAAAAAAAAAAAAAADwPwAAAAAAAABAAAAAAAAACEAAAAAAAAAQQAAAAAAAABRAAAAAAAAAGEAAAAAAAAAcQAAAAAAAACBAAAAAAAAAIkAAAAAAAAAkQAAAAAAAACZAAAAAAAAAKEAAAAAAAAAqQAAAAAAAACxAAAAAAAAALkAAAAAAAAAwQAAAAAAAADFAAAAAAAAAMkAAAAAAAAAzQAAAAAAAADRAAAAAAAAANUAAAAAAAAA2QAAAAAAAADdAAAAAAAAAOEAAAAAAAAA5QAAAAAAAADpAAAAAAAAAO0AAAAAAAAA8QAAAAAAAAD1AAAAAAAAAPkAAAAAAAAA/QAAAAAAAAEBAAAAAAACAQEAAAAAAAABBQAAAAAAAgEFAAAAAAAAAQkAAAAAAAIBCQAAAAAAAAENAAAAAAACAQ0AAAAAAAABEQAAAAAAAgERAAAAAAAAARUAAAAAAAIBFQAAAAAAAAEZAAAAAAACARkAAAAAAAABHQAAAAAAAgEdAAAAAAAAASEAAAAAAAIBIQAAAAAAAAElAAAAAAACASUAAAAAAAABKQAAAAAAAgEpAAAAAAAAAS0AAAAAAAIBLQAAAAAAAAExAAAAAAACATEAAAAAAAABNQAAAAAAAgE1AAAAAAAAATkAAAAAAAIBOQAAAAAAAAE9AAAAAAACAT0AAAAAAAABQQAAAAAAAQFBAAAAAAACAUEAAAAAAAMBQQAAAAAAAAFFAAAAAAABAUUAAAAAAAIBRQAAAAAAAwFFAAAAAAAAAUkAAAAAAAEBSQAAAAAAAgFJAAAAAAADAUkAAAAAAAABTQAAAAAAAQFNAAAAAAACAU0AAAAAAAMBTQAAAAAAAAFRAAAAAAABAVEAAAAAAAIBUQAAAAAAAwFRAAAAAAAAAVUAAAAAAAEBVQAAAAAAAgFVAAAAAAADAVUAAAAAAAABWQAAAAAAAQFZAAAAAAACAVkAAAAAAAMBWQAAAAAAAAFdAAAAAAABAV0AAAAAAAIBXQAAAAAAAwFdAAAAAAAAAWEAAAAAAAEBYQAAAAAAAgFhAAAAAAADAWEA=\"}'"
      ]
     },
     "execution_count": 13,
     "metadata": {},
     "output_type": "execute_result"
    }
   ],
   "source": [
    "dumped"
   ]
  },
  {
   "cell_type": "markdown",
   "metadata": {},
   "source": [
    "## To JSON"
   ]
  },
  {
   "cell_type": "code",
   "execution_count": 14,
   "metadata": {
    "collapsed": false
   },
   "outputs": [
    {
     "data": {
      "text/plain": [
       "UUID('b0c95bf4-45c2-11e5-852a-a820663a5ca4')"
      ]
     },
     "execution_count": 14,
     "metadata": {},
     "output_type": "execute_result"
    }
   ],
   "source": [
    "# Making UUIDs\n",
    "import uuid\n",
    "uuid.uuid1()"
   ]
  },
  {
   "cell_type": "code",
   "execution_count": 15,
   "metadata": {
    "collapsed": false
   },
   "outputs": [
    {
     "data": {
      "text/plain": [
       "{1: -5872.6000000000004,\n",
       " 5: -3873.0,\n",
       " 50: -7.0,\n",
       " 95: 3799.0,\n",
       " 99: 5884.1999999999971}"
      ]
     },
     "execution_count": 15,
     "metadata": {},
     "output_type": "execute_result"
    }
   ],
   "source": [
    "# Data percentiles\n",
    "perc = {}\n",
    "for p in [1, 5, 50, 95, 99]:\n",
    "    perc[p] = np.percentile(line, p)\n",
    "perc"
   ]
  },
  {
   "cell_type": "code",
   "execution_count": 16,
   "metadata": {
    "collapsed": false
   },
   "outputs": [
    {
     "data": {
      "text/plain": [
       "(-10099.0, 18007.0)"
      ]
     },
     "execution_count": 16,
     "metadata": {},
     "output_type": "execute_result"
    }
   ],
   "source": [
    "# Global min and max\n",
    "np.amin(line), np.amax(volume)"
   ]
  },
  {
   "cell_type": "markdown",
   "metadata": {},
   "source": [
    "Target JSON pseudocode:"
   ]
  },
  {
   "cell_type": "code",
   "execution_count": null,
   "metadata": {
    "collapsed": false
   },
   "outputs": [],
   "source": [
    "{\n",
    "    'name': 'F3',\n",
    "    'location': 'Netherlands',\n",
    "    'uuid': 'b4a7b5a8-41c2-11e5-85a7-c4850892820e',\n",
    "    'polarity': 'normal',  # Ambiguous: down incr = peak\n",
    "    'company': 'unknown',\n",
    "    'source': 'airgun',\n",
    "    'receiver': 'hydrophone',\n",
    "    'type': 'marine',  # land, borehole, etc.\n",
    "    'header': 'arbitrary string of stuff or EDCDIC header',\n",
    "\n",
    "    'data': [\n",
    "        [ 'first trace' ],\n",
    "        [ 'second trace' ],\n",
    "        '...',\n",
    "    ],\n",
    "\n",
    "    'metadata': {\n",
    "        'dim': 2,\n",
    "        'shape': [299, 451],\n",
    "        'dtype': int,\n",
    "        'min': -16408,\n",
    "        'max': 11405,\n",
    "        'perc': perc,\n",
    "        'global_min': -29579.0,\n",
    "        'global_max': 30439.0,\n",
    "    },\n",
    "    \n",
    "    'z': {\n",
    "        'min': 0,\n",
    "        'max': 1.800,\n",
    "        'int': 0.004,\n",
    "        'units': 's',\n",
    "        'domain': 'time',\n",
    "    },\n",
    "            \n",
    "    'geometry': {\n",
    "        'parent': '3D',\n",
    "        'type': '2D',  # Can infer this from data shape\n",
    "        'inline_min': 310,\n",
    "        'inline_max': 500,\n",
    "        'xline_min': 310,\n",
    "        'xline_max': 500,\n",
    "        'corners': [[50000, 15000], [7000, 17000]],\n",
    "        'crs': 'EPSG:4326',\n",
    "        'units': 'm',\n",
    "    },\n",
    "}"
   ]
  },
  {
   "cell_type": "markdown",
   "metadata": {},
   "source": [
    "OK, now make the real thing, but in a roundabout way... This should be a method on some sort of seismic object. "
   ]
  },
  {
   "cell_type": "code",
   "execution_count": 25,
   "metadata": {
    "collapsed": false
   },
   "outputs": [],
   "source": [
    "dictionary = {'metadata': {},\n",
    "              'geometry': {},\n",
    "              'z': {},\n",
    "              }"
   ]
  },
  {
   "cell_type": "code",
   "execution_count": 26,
   "metadata": {
    "collapsed": false
   },
   "outputs": [
    {
     "data": {
      "text/plain": [
       "251"
      ]
     },
     "execution_count": 26,
     "metadata": {},
     "output_type": "execute_result"
    }
   ],
   "source": [
    "line[0].size"
   ]
  },
  {
   "cell_type": "code",
   "execution_count": 27,
   "metadata": {
    "collapsed": false
   },
   "outputs": [],
   "source": [
    "dictionary['name'] = 'F3'\n",
    "dictionary['location'] = 'NEtherlands'\n",
    "dictionary['polarity'] = 'normal'\n",
    "dictionary['company'] = 'unknown'\n",
    "dictionary['type'] = 'marine'\n",
    "dictionary['airgun'] = 'airgun'\n",
    "dictionary['uuid'] = str(uuid.uuid1())\n",
    "\n",
    "dictionary['metadata']['dim'] = line.ndim\n",
    "dictionary['metadata']['shape'] = list(line.shape)\n",
    "dictionary['metadata']['min'] = np.amin(line)\n",
    "dictionary['metadata']['max'] = np.amax(line)\n",
    "dictionary['metadata']['perc'] = perc\n",
    "dictionary['metadata']['global_min'] = np.amin(volume)\n",
    "dictionary['metadata']['global_max'] = np.amax(volume)\n",
    "\n",
    "dictionary['z']['min'] = 0.5     # Just have to know this\n",
    "dictionary['z']['int'] = 0.004   # Just have to know this\n",
    "dictionary['z']['max'] = dictionary['z']['min'] + dictionary['z']['int'] * (line[0].size-1)\n",
    "dictionary['z']['units'] = 's'\n",
    "dictionary['z']['domain'] = 'time'\n",
    "\n",
    "dictionary['geometry']['inline_min'] = 50  # Can read these from original datafile,\n",
    "dictionary['geometry']['inline_max'] = 50  # but now just have to know them.\n",
    "dictionary['geometry']['xline_min'] = 310\n",
    "dictionary['geometry']['xline_max'] = 500"
   ]
  },
  {
   "cell_type": "code",
   "execution_count": 28,
   "metadata": {
    "collapsed": false
   },
   "outputs": [
    {
     "data": {
      "text/plain": [
       "{'airgun': 'airgun',\n",
       " 'company': 'unknown',\n",
       " 'geometry': {'inline_max': 50,\n",
       "  'inline_min': 50,\n",
       "  'xline_max': 500,\n",
       "  'xline_min': 310},\n",
       " 'location': 'NEtherlands',\n",
       " 'metadata': {'dim': 2,\n",
       "  'global_max': 18007.0,\n",
       "  'global_min': -23019.0,\n",
       "  'max': 13532.0,\n",
       "  'min': -10099.0,\n",
       "  'perc': {1: -5872.6000000000004,\n",
       "   5: -3873.0,\n",
       "   50: -7.0,\n",
       "   95: 3799.0,\n",
       "   99: 5884.1999999999971},\n",
       "  'shape': [191, 251]},\n",
       " 'name': 'F3',\n",
       " 'polarity': 'normal',\n",
       " 'type': 'marine',\n",
       " 'uuid': '13f5e67e-45c6-11e5-a1c4-a820663a5ca4',\n",
       " 'z': {'domain': 'time', 'int': 0.004, 'max': 1.5, 'min': 0.5, 'units': 's'}}"
      ]
     },
     "execution_count": 28,
     "metadata": {},
     "output_type": "execute_result"
    }
   ],
   "source": [
    "dictionary"
   ]
  },
  {
   "cell_type": "code",
   "execution_count": 29,
   "metadata": {
    "collapsed": false
   },
   "outputs": [
    {
     "data": {
      "text/plain": [
       "'{\"type\": \"marine\", \"location\": \"NEtherlands\", \"uuid\": \"13f5e67e-45c6-11e5-a1c4-a820663a5ca4\", \"name\": \"F3\", \"geometry\": {\"xline_max\": 500, \"xline_min\": 310, \"inline_min\": 50, \"inline_max\": 50}, \"company\": \"unknown\", \"airgun\": \"airgun\", \"metadata\": {\"global_min\": -23019.0, \"dim\": 2, \"perc\": {\"1\": -5872.6, \"50\": -7.0, \"99\": 5884.199999999997, \"5\": -3873.0, \"95\": 3799.0}, \"min\": -10099.0, \"global_max\": 18007.0, \"max\": 13532.0, \"shape\": [191, 251]}, \"polarity\": \"normal\", \"z\": {\"units\": \"s\", \"max\": 1.5, \"min\": 0.5, \"int\": 0.004, \"domain\": \"time\"}}'"
      ]
     },
     "execution_count": 29,
     "metadata": {},
     "output_type": "execute_result"
    }
   ],
   "source": [
    "json.dumps(dictionary)"
   ]
  },
  {
   "cell_type": "markdown",
   "metadata": {},
   "source": [
    "Check to see how big the list is as a string..."
   ]
  },
  {
   "cell_type": "code",
   "execution_count": 80,
   "metadata": {
    "collapsed": false
   },
   "outputs": [
    {
     "data": {
      "text/plain": [
       "386574"
      ]
     },
     "execution_count": 80,
     "metadata": {},
     "output_type": "execute_result"
    }
   ],
   "source": [
    "snp = json.dumps(line.tolist())\n",
    "len(snp)"
   ]
  },
  {
   "cell_type": "markdown",
   "metadata": {},
   "source": [
    "...and as a base64 encoded string..."
   ]
  },
  {
   "cell_type": "code",
   "execution_count": 81,
   "metadata": {
    "collapsed": false
   },
   "outputs": [
    {
     "data": {
      "text/plain": [
       "511425"
      ]
     },
     "execution_count": 81,
     "metadata": {},
     "output_type": "execute_result"
    }
   ],
   "source": [
    "l = line.copy(order='C')\n",
    "s64 = json.dumps(l, cls=NumpyEncoder)\n",
    "len(s64)"
   ]
  },
  {
   "cell_type": "markdown",
   "metadata": {},
   "source": [
    "(Aside: maybe we can compress, or reduce bitdepth?)\n",
    "\n",
    "OK, just stick to string..."
   ]
  },
  {
   "cell_type": "code",
   "execution_count": 30,
   "metadata": {
    "collapsed": true
   },
   "outputs": [],
   "source": [
    "dictionary['data'] = line.tolist()"
   ]
  },
  {
   "cell_type": "code",
   "execution_count": 31,
   "metadata": {
    "collapsed": false
   },
   "outputs": [],
   "source": [
    "import os, json\n",
    "\n",
    "env = %env\n",
    "\n",
    "path = os.path.join(env['HOME'], os.sep.join(['Dropbox', 'Public']))\n",
    "with open(os.path.join(path, 'seismic.json'), 'w') as f:\n",
    "    f.write(json.dumps(dictionary))"
   ]
  },
  {
   "cell_type": "markdown",
   "metadata": {
    "collapsed": true
   },
   "source": [
    "https://dl.dropboxusercontent.com/u/14965965/horizon.json"
   ]
  },
  {
   "cell_type": "code",
   "execution_count": null,
   "metadata": {
    "collapsed": true
   },
   "outputs": [],
   "source": []
  }
 ],
 "metadata": {
  "kernelspec": {
   "display_name": "Python 3",
   "language": "python",
   "name": "python3"
  },
  "language_info": {
   "codemirror_mode": {
    "name": "ipython",
    "version": 3
   },
   "file_extension": ".py",
   "mimetype": "text/x-python",
   "name": "python",
   "nbconvert_exporter": "python",
   "pygments_lexer": "ipython3",
   "version": "3.4.3"
  }
 },
 "nbformat": 4,
 "nbformat_minor": 0
}
